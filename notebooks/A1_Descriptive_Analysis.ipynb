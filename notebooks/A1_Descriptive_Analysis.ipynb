{
 "cells": [
  {
   "cell_type": "markdown",
   "metadata": {},
   "source": [
    "<div style=\"font-size:18pt; padding-top:20px; text-align:center\">ЗАДАНИЕ. <b>Дескриптивный анализ данных</b> </div><hr>\n",
    "<div style=\"text-align:right;\">Папулин С.Ю. <span style=\"font-style: italic;font-weight: bold;\">(papulin.study@yandex.ru)</span></div>"
   ]
  },
  {
   "cell_type": "markdown",
   "metadata": {},
   "source": [
    "<a name=\"0\"></a>\n",
    "<div><span style=\"font-size:14pt; font-weight:bold\">Содержание</span>\n",
    "    <ol>\n",
    "        <li><a href=\"#1\">Варианты</a></li>\n",
    "        <li><a href=\"#2\">Задание</a></li>\n",
    "    </ol>\n",
    "</div>"
   ]
  },
  {
   "cell_type": "markdown",
   "metadata": {},
   "source": [
    "<p>Подключение стилей оформления</p>"
   ]
  },
  {
   "cell_type": "code",
   "execution_count": 1,
   "metadata": {},
   "outputs": [
    {
     "data": {
      "text/html": [
       "<link href=\"css/style.css\" rel=\"stylesheet\" type=\"text/css\">\n"
      ],
      "text/plain": [
       "<IPython.core.display.HTML object>"
      ]
     },
     "metadata": {},
     "output_type": "display_data"
    }
   ],
   "source": [
    "%%html\n",
    "<link href=\"css/style.css\" rel=\"stylesheet\" type=\"text/css\">"
   ]
  },
  {
   "cell_type": "markdown",
   "metadata": {},
   "source": [
    "##### <p>Чтобы узнать свой вариант, введите Вашу фамилию в соответвующее поле ниже и запустите ячейку:</p>"
   ]
  },
  {
   "cell_type": "code",
   "execution_count": null,
   "metadata": {},
   "outputs": [],
   "source": [
    "surname = \"\"  # Ваша фамилия\n",
    "\n",
    "alp = 'абвгдеёжзийклмнопрстуфхцчшщъыьэюя'\n",
    "w = [1, 42, 21, 21, 34,  6, 44, 26, 18, 44, 38, 26, 14, 43,  4, 49, 45,\n",
    "        7, 42, 29,  4,  9, 36, 34, 31, 29,  5, 30,  4, 19, 28, 25, 33]\n",
    "\n",
    "d = dict(zip(alp, w))\n",
    "variant =  sum([d[el] for el in surname.lower()]) % 40 + 1\n",
    "\n",
    "print(\"Задача № 1, шаг 5 - вариант: \", variant % 5 + 1)\n",
    "print(\"Задача № 1, шаг 11 - вариант: \", variant % 2 + 1 )\n",
    "print(\"задача № 2 - вариант: \", variant % 4 + 1)"
   ]
  },
  {
   "cell_type": "markdown",
   "metadata": {},
   "source": [
    "<div class=\"msg-block msg-warning\">\n",
    "  <p class=\"msg-text-warn\">Варианты могут не совпадать с последующими ДЗ</p>\n",
    "</div>"
   ]
  },
  {
   "cell_type": "markdown",
   "metadata": {},
   "source": [
    "<a name=\"2\"></a>\n",
    "<div style=\"display:table; width:100%; padding-top:10px; padding-bottom:10px; border-bottom:1px solid lightgrey\">\n",
    "    <div style=\"display:table-row\">\n",
    "        <div style=\"display:table-cell; width:80%; font-size:14pt; font-weight:bold\">2. Задание</div>\n",
    "    \t<div style=\"display:table-cell; width:20%; text-align:center; background-color:whitesmoke; border:1px solid lightgrey\"><a href=\"#0\">К содержанию</a></div>\n",
    "    </div>\n",
    "</div>"
   ]
  },
  {
   "cell_type": "markdown",
   "metadata": {},
   "source": [
    "<div class=\"msg-block msg-imp\">\n",
    "  <div class=\"msg-text-imp\">\n",
    "      <p>СРОК СДАЧИ: до <b>-</b></p>\n",
    "      <p style=\"margin:0px\">ПОСЛЕ СРОКА: первая неделя <b>-</b>, вторая неделя и далее до конца модуля <b>-</b>, потом <b>- баллов</b>\n",
    "      </p>\n",
    "  </div>\n",
    "</div>"
   ]
  },
  {
   "cell_type": "markdown",
   "metadata": {},
   "source": [
    "<p><b>Задача 1.</b> Анализ индекса восприятия коррупции (Corruption Perceptions Index, CPI)</p>"
   ]
  },
  {
   "cell_type": "markdown",
   "metadata": {},
   "source": [
    "<p>1. Подключите библиотеки numpy, pandas, matplotlib</p>"
   ]
  },
  {
   "cell_type": "code",
   "execution_count": 2,
   "metadata": {},
   "outputs": [],
   "source": [
    "import numpy as np, pandas as pd, matplotlib as plt"
   ]
  },
  {
   "cell_type": "markdown",
   "metadata": {},
   "source": [
    "# <p>2. Загрузите данные из \"data/CPI2019.xlsx\" в DataFrame. Исходные данные и пояснения можно найти <a href=\"https://www.transparency.org/cpi2019\">здесь</a></p>"
   ]
  },
  {
   "cell_type": "code",
   "execution_count": 14,
   "metadata": {
    "scrolled": false
   },
   "outputs": [
    {
     "name": "stdout",
     "output_type": "stream",
     "text": [
      "CPI2020_SignificantChanges_210125.xlsx data.xlsx\n",
      "cpi-2020.csv\n",
      "/Users/oleg/Documents/uni/2-sem/ML/assign/notebooks\n"
     ]
    }
   ],
   "source": [
    "!ls ../data/A1_Descriptive_Analysis/new_CPI/\n",
    "!pwd"
   ]
  },
  {
   "cell_type": "code",
   "execution_count": 21,
   "metadata": {},
   "outputs": [],
   "source": [
    "cpi_data = pd.read_csv('/Users/oleg/Documents/uni/2-sem/ML/assign/data/A1_Descriptive_Analysis/new_CPI/cpi-2020.csv', sep=\";\")"
   ]
  },
  {
   "cell_type": "markdown",
   "metadata": {},
   "source": [
    "<p>3. Отсортируйте данные по убыванию индекса DataFrame</p>"
   ]
  },
  {
   "cell_type": "code",
   "execution_count": 59,
   "metadata": {
    "scrolled": true
   },
   "outputs": [
    {
     "data": {
      "text/plain": [
       "0          Denmark\n",
       "1      New Zealand\n",
       "2          Finland\n",
       "3        Singapore\n",
       "4           Sweden\n",
       "          ...     \n",
       "175      Venezuela\n",
       "176          Yemen\n",
       "177          Syria\n",
       "178        Somalia\n",
       "179    South Sudan\n",
       "Name: Country, Length: 180, dtype: object"
      ]
     },
     "execution_count": 59,
     "metadata": {},
     "output_type": "execute_result"
    }
   ],
   "source": [
    "cpi_data.columns\n",
    "cpi_data.get(\"CPI score 2020\")\n",
    "\n",
    "cpi_data.get(\"Country\")\n",
    "\n",
    "for \n"
   ]
  },
  {
   "cell_type": "code",
   "execution_count": 45,
   "metadata": {},
   "outputs": [
    {
     "data": {
      "text/plain": [
       "[RangeIndex(start=0, stop=180, step=1)]"
      ]
     },
     "execution_count": 45,
     "metadata": {},
     "output_type": "execute_result"
    }
   ],
   "source": [
    "cpi_data.get(\"CPI score 2020\")."
   ]
  },
  {
   "cell_type": "markdown",
   "metadata": {},
   "source": [
    "<div><p>4. Отобразите данные по индексу CPI за 2019 год в виде горизонтального столбчатого графика. Примерный вид графика приведен ниже</p>\n",
    "<img src=\"img/cpi_2016_.png\"></div>"
   ]
  },
  {
   "cell_type": "code",
   "execution_count": 50,
   "metadata": {},
   "outputs": [
    {
     "data": {
      "image/png": "[encoded data removed]",
      "text/plain": [
       "<Figure size 640x480 with 1 Axes>"
      ]
     },
     "metadata": {},
     "output_type": "display_data"
    },
    {
     "data": {
      "text/plain": [
       "pandas.core.series.Series"
      ]
     },
     "execution_count": 50,
     "metadata": {},
     "output_type": "execute_result"
    }
   ],
   "source": [
    "import matplotlib.pyplot as plt\n",
    "import numpy as np\n",
    "\n",
    "# Fixing random state for reproducibility\n",
    "np.random.seed(19680801)\n",
    "\n",
    "\n",
    "plt.rcdefaults()\n",
    "fig, ax = plt.subplots()\n",
    "\n",
    "# Example data\n",
    "people = cpi_data.get(\"CPI score 2020\")[:20]\n",
    "y_pos = np.arange(len(people))\n",
    "performance = 3 + 10 * np.random.rand(len(people))\n",
    "error = np.random.rand(len(people))\n",
    "\n",
    "ax.barh(y_pos, performance, xerr=error, align='center')\n",
    "ax.set_yticks(y_pos)\n",
    "ax.set_yticklabels(people)\n",
    "ax.invert_yaxis()  # labels read top-to-bottom\n",
    "ax.set_xlabel('Performance')\n",
    "ax.set_title('Hello')\n",
    "\n",
    "plt.show()\n",
    "type(people)"
   ]
  },
  {
   "cell_type": "markdown",
   "metadata": {},
   "source": [
    "<p>5. Сформируйте DataFrame из исходного для региона в соответствии с Вашим вариантом</p>\n",
    "<p><b>Вариант 1.</b> Asia Pacific</p>\n",
    "<p><b>Вариант 2.</b> Americas</p>\n",
    "<p><b>Вариант 3.</b> Europe and Central Asia</p>\n",
    "<p><b>Вариант 4.</b> Middle East and North Africa</p>\n",
    "<p><b>Вариант 5.</b> Sub Saharan Africa</p>"
   ]
  },
  {
   "cell_type": "code",
   "execution_count": null,
   "metadata": {
    "collapsed": true
   },
   "outputs": [],
   "source": [
    "# Ваш код"
   ]
  },
  {
   "cell_type": "markdown",
   "metadata": {},
   "source": [
    "<p>6. Выведите данные DataFrame'a</p>"
   ]
  },
  {
   "cell_type": "code",
   "execution_count": null,
   "metadata": {
    "collapsed": true
   },
   "outputs": [],
   "source": [
    "# Ваш код"
   ]
  },
  {
   "cell_type": "markdown",
   "metadata": {},
   "source": [
    "<div><p>7. Постройте графики индекса CPI за 2012-2019 для стран своего региона. Примерный вид графика приведен ниже</p>\n",
    "<img src=\"img/fig_springfield_region.png\">\n",
    "</div>"
   ]
  },
  {
   "cell_type": "code",
   "execution_count": null,
   "metadata": {
    "collapsed": true
   },
   "outputs": [],
   "source": [
    "# Ваш код"
   ]
  },
  {
   "cell_type": "markdown",
   "metadata": {},
   "source": [
    "<p>8. Найдите страны с наибольшим и наименьшим значением CPI Вашего варианта региона за 2019 год</p>"
   ]
  },
  {
   "cell_type": "code",
   "execution_count": null,
   "metadata": {
    "collapsed": true
   },
   "outputs": [],
   "source": [
    "# Ваш код"
   ]
  },
  {
   "cell_type": "markdown",
   "metadata": {},
   "source": [
    "<p>9. Определите средние значения за каждый год в период с 2012 по 2019</p>"
   ]
  },
  {
   "cell_type": "code",
   "execution_count": null,
   "metadata": {
    "collapsed": true
   },
   "outputs": [],
   "source": [
    "# Ваш код"
   ]
  },
  {
   "cell_type": "markdown",
   "metadata": {},
   "source": [
    "<div><p>10. Постройте графики индекса CPI за 2012-2019 для стран своего региона и выделите страны с наибольшим и наименьшим значением CPI за 2019 год, а также постройте графики для средних значение по региону и РФ. Примерный вид графика приведен ниже</p>\n",
    "<img src=\"img/fig_springfield_region_comb.png\">\n",
    "</div>"
   ]
  },
  {
   "cell_type": "code",
   "execution_count": null,
   "metadata": {
    "collapsed": true
   },
   "outputs": [],
   "source": [
    "# Ваш код"
   ]
  },
  {
   "cell_type": "markdown",
   "metadata": {},
   "source": [
    "<p>11. Определите как изменилось значение показателя в соответствии с Вашим вариантом с 2012 по 2019</p>\n",
    "<p><b>Вариант 1.</b> На сколько позиций в рейтинге c 2012 по 2019</p>\n",
    "<p><b>Вариант 2.</b> На сколько процентов значение CPI с 2012 по 2019</p>"
   ]
  },
  {
   "cell_type": "markdown",
   "metadata": {},
   "source": [
    "<div class=\"msg-block msg-info\">\n",
    "  <p class=\"msg-text-info\">У нескольких стран может быть одна и та же позиция в рейтинге из-за одинаковых значений индекса</p>\n",
    "</div>"
   ]
  },
  {
   "cell_type": "markdown",
   "metadata": {},
   "source": [
    "<p>12. Выведите </p>"
   ]
  },
  {
   "cell_type": "code",
   "execution_count": null,
   "metadata": {},
   "outputs": [],
   "source": [
    "import pandas as pnd\n",
    "\n",
    "index = [\"mean_2019\", \"max_2019\", \"min_2019\", \"Russia_2019\"]\n",
    "columns = [\"Region\", \"Country\", \"Score 2012\", \"Score 2019\", \"Change in Position\"]"
   ]
  },
  {
   "cell_type": "code",
   "execution_count": null,
   "metadata": {},
   "outputs": [],
   "source": [
    "columns = [\"Region\", \"Country\", \"Score 2012\", \"Score 2019\", \"Change in Position\"]\n",
    "df = pnd.DataFrame(index=index, columns=columns)\n",
    "df"
   ]
  },
  {
   "cell_type": "code",
   "execution_count": null,
   "metadata": {},
   "outputs": [],
   "source": [
    "columns = [\"Region\", \"Country\", \"Score 2012\", \"Score 2019\", \"Change in %\"]\n",
    "df = pnd.DataFrame(index=index, columns=columns)\n",
    "df"
   ]
  },
  {
   "cell_type": "code",
   "execution_count": null,
   "metadata": {
    "collapsed": true
   },
   "outputs": [],
   "source": [
    "# Ваш код"
   ]
  },
  {
   "cell_type": "markdown",
   "metadata": {},
   "source": [
    "<p><b>Задача 2.</b> Анализ рынка акций</p>"
   ]
  },
  {
   "cell_type": "markdown",
   "metadata": {},
   "source": [
    "<p>1. Загрузите данные в один dataframe из всех файлов в папке /data/stock. Все файлы имеют одинаковую структуру, в том числе наименование столбцов. В качестве значений индекса dataframe'а необходимо указать значения столбца \"Date\". Название столбцов должные соответствовать названию акций (имя файла без .csv), а их значения - значениям цены закрытия (столбец \"Close\" в файлах .csv)</p>"
   ]
  },
  {
   "cell_type": "code",
   "execution_count": 2,
   "metadata": {
    "collapsed": true
   },
   "outputs": [],
   "source": [
    "# Ваш код\n",
    "# import os\n",
    "# os.listdir(file_path) - список файлов в папке file_path\n",
    "# pnd.read_csv(full_file_name, index_col=0, parse_dates=True) - загрузка из файла в dataframe\n",
    "# dfStock[\"Close\"] - нужна только цена закрытия"
   ]
  },
  {
   "cell_type": "markdown",
   "metadata": {},
   "source": [
    "<p>2. Рассчитайте корреляционную матрицу для всех акций</p>"
   ]
  },
  {
   "cell_type": "code",
   "execution_count": null,
   "metadata": {
    "collapsed": true
   },
   "outputs": [],
   "source": [
    "# Ваш код"
   ]
  },
  {
   "cell_type": "markdown",
   "metadata": {},
   "source": [
    "<p>3. Отобразите корреляционную матрицу в виде диаграммы. Примерный вид графика приведен ниже</p>\n",
    "<img src=\"img/fig_corr_matrix.png\" width=\"400px\">"
   ]
  },
  {
   "cell_type": "code",
   "execution_count": null,
   "metadata": {
    "collapsed": true
   },
   "outputs": [],
   "source": [
    "# Ваш код\n",
    "# matshow(corrMatrix, vmin=-1, vmax=1)"
   ]
  },
  {
   "cell_type": "markdown",
   "metadata": {},
   "source": [
    "<div>\n",
    "<p>4. В соответствии с Вашим вариантом определите:</p> \n",
    "<ul>\n",
    "    <li>акцию с максимальной корреляцией (max)</li>\n",
    "    <li>акцию с минимальной корреляцией (min) </li>\n",
    "    <li>акцию, которая больше всего соответствует отсутствию какой-либо корреляции (none)</li>\n",
    "</ul>\n",
    "</div>"
   ]
  },
  {
   "cell_type": "markdown",
   "metadata": {},
   "source": [
    "<p><b>Вариант 1.</b> Microsoft (MSFT)</p>\n",
    "<p><b>Вариант 2.</b> Facebook (FB)</p>\n",
    "<p><b>Вариант 3.</b> Google (GOOGL)</p>\n",
    "<p><b>Вариант 4.</b> Alibaba (BABA)</p>"
   ]
  },
  {
   "cell_type": "code",
   "execution_count": null,
   "metadata": {
    "collapsed": true
   },
   "outputs": [],
   "source": [
    "# Ваш код"
   ]
  },
  {
   "cell_type": "markdown",
   "metadata": {},
   "source": [
    "<p>5. Постройте диаграммы разброса (Ваша компания - Компания с min), (Ваша компания - Компания с max), (Ваша компания - Компания с none)</p>"
   ]
  },
  {
   "cell_type": "code",
   "execution_count": null,
   "metadata": {
    "collapsed": true
   },
   "outputs": [],
   "source": [
    "# Ваш код\n",
    "# scatter"
   ]
  },
  {
   "cell_type": "markdown",
   "metadata": {},
   "source": [
    "<p>6. Рассчитайте среднюю цену акций для каждого месяца (исходные данные взяты с интервалом в месяц)</p>"
   ]
  },
  {
   "cell_type": "code",
   "execution_count": null,
   "metadata": {
    "collapsed": true
   },
   "outputs": [],
   "source": [
    "# Ваш код"
   ]
  },
  {
   "cell_type": "markdown",
   "metadata": {},
   "source": [
    "<p>7. Постройте графики для акций из пункта 4 и средней из пункта 6. Примерный вид графика приведен ниже</p>\n",
    "<img src=\"img/fig_tw_comp.png\">"
   ]
  },
  {
   "cell_type": "code",
   "execution_count": null,
   "metadata": {
    "collapsed": true
   },
   "outputs": [],
   "source": [
    "# Ваш код"
   ]
  },
  {
   "cell_type": "code",
   "execution_count": null,
   "metadata": {
    "collapsed": true
   },
   "outputs": [],
   "source": []
  }
 ],
 "metadata": {
  "kernelspec": {
   "display_name": "Python 3",
   "language": "python",
   "name": "python3"
  },
  "language_info": {
   "codemirror_mode": {
    "name": "ipython",
    "version": 3
   },
   "file_extension": ".py",
   "mimetype": "text/x-python",
   "name": "python",
   "nbconvert_exporter": "python",
   "pygments_lexer": "ipython3",
   "version": "3.8.2"
  }
 },
 "nbformat": 4,
 "nbformat_minor": 2
}
